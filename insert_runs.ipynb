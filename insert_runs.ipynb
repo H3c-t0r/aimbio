{
 "cells": [
  {
   "cell_type": "code",
   "execution_count": 2,
   "metadata": {},
   "outputs": [],
   "source": [
    "import os\n",
    "import numpy as np\n",
    "from aim import Run, Image, Figure, Geometry, Audio"
   ]
  },
  {
   "cell_type": "code",
   "execution_count": 3,
   "metadata": {},
   "outputs": [],
   "source": [
    "# Create Aim Run:\n",
    "aim_run = Run()\n",
    "# Create the figure and plot it\n",
    "geo_path = \"aim/web/ui/public/bunny.obj\"\n",
    "aim_geo = Geometry(geo_path,format='obj')\n",
    "aim_run.track(aim_geo, name=\"Geometries\", step=1, context={ \"name\":\"Example 3D Mesh\" })"
   ]
  }
 ],
 "metadata": {
  "kernelspec": {
   "display_name": "venv-aim-test",
   "language": "python",
   "name": "venv-aim-test"
  },
  "language_info": {
   "codemirror_mode": {
    "name": "ipython",
    "version": 3
   },
   "file_extension": ".py",
   "mimetype": "text/x-python",
   "name": "python",
   "nbconvert_exporter": "python",
   "pygments_lexer": "ipython3",
   "version": "3.8.12"
  },
  "orig_nbformat": 4
 },
 "nbformat": 4,
 "nbformat_minor": 2
}
