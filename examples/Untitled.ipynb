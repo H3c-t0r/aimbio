{
 "cells": [
  {
   "cell_type": "code",
   "execution_count": 24,
   "metadata": {},
   "outputs": [],
   "source": [
    "import aim"
   ]
  },
  {
   "cell_type": "code",
   "execution_count": 25,
   "metadata": {},
   "outputs": [],
   "source": [
    "from aim import track"
   ]
  },
  {
   "cell_type": "code",
   "execution_count": 26,
   "metadata": {},
   "outputs": [
    {
     "name": "stdout",
     "output_type": "stream",
     "text": [
      "Aim repository not found \n",
      "\n"
     ]
    }
   ],
   "source": [
    "track(aim.metric, 'df', 3.3)"
   ]
  },
  {
   "cell_type": "code",
   "execution_count": 27,
   "metadata": {},
   "outputs": [
    {
     "data": {
      "text/plain": [
       "'/home/jovyan'"
      ]
     },
     "execution_count": 27,
     "metadata": {},
     "output_type": "execute_result"
    }
   ],
   "source": [
    "os.environ['PWD']"
   ]
  },
  {
   "cell_type": "code",
   "execution_count": 48,
   "metadata": {},
   "outputs": [
    {
     "data": {
      "text/plain": [
       "'/home/jovyan/work'"
      ]
     },
     "execution_count": 48,
     "metadata": {},
     "output_type": "execute_result"
    }
   ],
   "source": [
    "os.getcwd()"
   ]
  },
  {
   "cell_type": "code",
   "execution_count": 28,
   "metadata": {},
   "outputs": [
    {
     "data": {
      "text/plain": [
       "['requirements.txt',\n",
       " 'pytorch_track_correlation.py',\n",
       " 'Untitled.ipynb',\n",
       " 'pytorch_track_module.py',\n",
       " 'keras_vgg_save.py',\n",
       " 'pytorch_model_load.py',\n",
       " 'pytorch_track_metrics.py',\n",
       " 'pytorch_track_all.py',\n",
       " 'README.md',\n",
       " 'pytorch_track_media.py',\n",
       " 'pytorch_track_params.py',\n",
       " '.gitignore',\n",
       " 'save_temp',\n",
       " 'pytorch_model_save.py',\n",
       " '.ipynb_checkpoints',\n",
       " 'pytorch_track_distribution.py',\n",
       " '.aim',\n",
       " 'data']"
      ]
     },
     "execution_count": 28,
     "metadata": {},
     "output_type": "execute_result"
    }
   ],
   "source": [
    "os.listdir()"
   ]
  },
  {
   "cell_type": "code",
   "execution_count": 40,
   "metadata": {},
   "outputs": [],
   "source": [
    "p = os.path.join(os.environ['PWD'], 'work')"
   ]
  },
  {
   "cell_type": "code",
   "execution_count": 41,
   "metadata": {},
   "outputs": [
    {
     "data": {
      "text/plain": [
       "'/home/jovyan/work'"
      ]
     },
     "execution_count": 41,
     "metadata": {},
     "output_type": "execute_result"
    }
   ],
   "source": [
    "p"
   ]
  },
  {
   "cell_type": "code",
   "execution_count": 42,
   "metadata": {},
   "outputs": [
    {
     "data": {
      "text/plain": [
       "True"
      ]
     },
     "execution_count": 42,
     "metadata": {},
     "output_type": "execute_result"
    }
   ],
   "source": [
    "os.path.exists(p)"
   ]
  },
  {
   "cell_type": "code",
   "execution_count": 34,
   "metadata": {},
   "outputs": [
    {
     "data": {
      "text/plain": [
       "list"
      ]
     },
     "execution_count": 34,
     "metadata": {},
     "output_type": "execute_result"
    }
   ],
   "source": [
    "type(os.listdir())"
   ]
  },
  {
   "cell_type": "code",
   "execution_count": 36,
   "metadata": {},
   "outputs": [
    {
     "data": {
      "text/plain": [
       "False"
      ]
     },
     "execution_count": 36,
     "metadata": {},
     "output_type": "execute_result"
    }
   ],
   "source": [
    "'.aim' in os.listdir(os.environ['PWD'])"
   ]
  },
  {
   "cell_type": "code",
   "execution_count": 37,
   "metadata": {},
   "outputs": [
    {
     "data": {
      "text/plain": [
       "['.bash_logout',\n",
       " '.bashrc',\n",
       " '.profile',\n",
       " '.cache',\n",
       " '.local',\n",
       " '.ipython',\n",
       " '.conda',\n",
       " '.jupyter',\n",
       " '.empty',\n",
       " 'work']"
      ]
     },
     "execution_count": 37,
     "metadata": {},
     "output_type": "execute_result"
    }
   ],
   "source": [
    "os.listdir(os.environ['PWD'])"
   ]
  },
  {
   "cell_type": "code",
   "execution_count": 43,
   "metadata": {},
   "outputs": [
    {
     "data": {
      "text/plain": [
       "['requirements.txt',\n",
       " 'pytorch_track_correlation.py',\n",
       " 'Untitled.ipynb',\n",
       " 'pytorch_track_module.py',\n",
       " 'keras_vgg_save.py',\n",
       " 'pytorch_model_load.py',\n",
       " 'pytorch_track_metrics.py',\n",
       " 'pytorch_track_all.py',\n",
       " 'README.md',\n",
       " 'pytorch_track_media.py',\n",
       " 'pytorch_track_params.py',\n",
       " '.gitignore',\n",
       " 'save_temp',\n",
       " 'pytorch_model_save.py',\n",
       " '.ipynb_checkpoints',\n",
       " 'pytorch_track_distribution.py',\n",
       " '.aim',\n",
       " 'data']"
      ]
     },
     "execution_count": 43,
     "metadata": {},
     "output_type": "execute_result"
    }
   ],
   "source": [
    "os.listdir(p)"
   ]
  },
  {
   "cell_type": "code",
   "execution_count": 44,
   "metadata": {},
   "outputs": [
    {
     "data": {
      "text/plain": [
       "'/home/jovyan'"
      ]
     },
     "execution_count": 44,
     "metadata": {},
     "output_type": "execute_result"
    }
   ],
   "source": [
    "os.environ['PWD']"
   ]
  },
  {
   "cell_type": "code",
   "execution_count": 45,
   "metadata": {},
   "outputs": [
    {
     "data": {
      "text/plain": [
       "'/home/jovyan/work'"
      ]
     },
     "execution_count": 45,
     "metadata": {},
     "output_type": "execute_result"
    }
   ],
   "source": [
    "p"
   ]
  },
  {
   "cell_type": "code",
   "execution_count": 46,
   "metadata": {},
   "outputs": [
    {
     "data": {
      "text/plain": [
       "['requirements.txt',\n",
       " 'pytorch_track_correlation.py',\n",
       " 'Untitled.ipynb',\n",
       " 'pytorch_track_module.py',\n",
       " 'keras_vgg_save.py',\n",
       " 'pytorch_model_load.py',\n",
       " 'pytorch_track_metrics.py',\n",
       " 'pytorch_track_all.py',\n",
       " 'README.md',\n",
       " 'pytorch_track_media.py',\n",
       " 'pytorch_track_params.py',\n",
       " '.gitignore',\n",
       " 'save_temp',\n",
       " 'pytorch_model_save.py',\n",
       " '.ipynb_checkpoints',\n",
       " 'pytorch_track_distribution.py',\n",
       " '.aim',\n",
       " 'data']"
      ]
     },
     "execution_count": 46,
     "metadata": {},
     "output_type": "execute_result"
    }
   ],
   "source": [
    "os.listdir('.')"
   ]
  },
  {
   "cell_type": "code",
   "execution_count": null,
   "metadata": {},
   "outputs": [],
   "source": []
  }
 ],
 "metadata": {
  "kernelspec": {
   "display_name": "Python 3",
   "language": "python",
   "name": "python3"
  },
  "language_info": {
   "codemirror_mode": {
    "name": "ipython",
    "version": 3
   },
   "file_extension": ".py",
   "mimetype": "text/x-python",
   "name": "python",
   "nbconvert_exporter": "python",
   "pygments_lexer": "ipython3",
   "version": "3.7.3"
  }
 },
 "nbformat": 4,
 "nbformat_minor": 2
}
